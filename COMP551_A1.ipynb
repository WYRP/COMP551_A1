{
 "cells": [
  {
   "cell_type": "code",
   "execution_count": 1,
   "id": "initial_id",
   "metadata": {
    "ExecuteTime": {
     "end_time": "2023-09-28T00:42:07.779996700Z",
     "start_time": "2023-09-28T00:42:07.461861500Z"
    }
   },
   "outputs": [
    {
     "name": "stdout",
     "output_type": "stream",
     "text": [
      "        RM  LSTAT  PTRATIO      MEDV\n",
      "0    6.575   4.98     15.3  504000.0\n",
      "1    6.421   9.14     17.8  453600.0\n",
      "2    7.185   4.03     17.8  728700.0\n",
      "3    6.998   2.94     18.7  701400.0\n",
      "4    7.147   5.33     18.7  760200.0\n",
      "..     ...    ...      ...       ...\n",
      "484  6.593   9.67     21.0  470400.0\n",
      "485  6.120   9.08     21.0  432600.0\n",
      "486  6.976   5.64     21.0  501900.0\n",
      "487  6.794   6.48     21.0  462000.0\n",
      "488  6.030   7.88     21.0  249900.0\n",
      "\n",
      "[489 rows x 4 columns]\n"
     ]
    }
   ],
   "source": [
    "import pandas as pd\n",
    "import numpy as np\n",
    "import matplotlib.pyplot as plt\n",
    "from sklearn.linear_model import LinearRegression\n",
    "from sklearn.metrics import mean_squared_error, mean_absolute_error, r2_score\n",
    "%matplotlib inline\n",
    "\n",
    "path = r\"C:\\Users\\yongr\\PycharmProjects\\pythonProject1\\housing.csv\"\n",
    "\n",
    "df = pd.read_csv(path)\n",
    "\n",
    "print(df)"
   ]
  },
  {
   "cell_type": "code",
   "execution_count": 2,
   "id": "7dc317cb940ab4f9",
   "metadata": {
    "ExecuteTime": {
     "end_time": "2023-09-28T00:42:07.835039200Z",
     "start_time": "2023-09-28T00:42:07.473364500Z"
    },
    "collapsed": false
   },
   "outputs": [
    {
     "data": {
      "text/html": [
       "<div>\n",
       "<style scoped>\n",
       "    .dataframe tbody tr th:only-of-type {\n",
       "        vertical-align: middle;\n",
       "    }\n",
       "\n",
       "    .dataframe tbody tr th {\n",
       "        vertical-align: top;\n",
       "    }\n",
       "\n",
       "    .dataframe thead th {\n",
       "        text-align: right;\n",
       "    }\n",
       "</style>\n",
       "<table border=\"1\" class=\"dataframe\">\n",
       "  <thead>\n",
       "    <tr style=\"text-align: right;\">\n",
       "      <th></th>\n",
       "      <th>RM</th>\n",
       "      <th>LSTAT</th>\n",
       "      <th>PTRATIO</th>\n",
       "      <th>MEDV</th>\n",
       "    </tr>\n",
       "  </thead>\n",
       "  <tbody>\n",
       "    <tr>\n",
       "      <th>0</th>\n",
       "      <td>6.575</td>\n",
       "      <td>4.98</td>\n",
       "      <td>15.3</td>\n",
       "      <td>504000.0</td>\n",
       "    </tr>\n",
       "    <tr>\n",
       "      <th>1</th>\n",
       "      <td>6.421</td>\n",
       "      <td>9.14</td>\n",
       "      <td>17.8</td>\n",
       "      <td>453600.0</td>\n",
       "    </tr>\n",
       "    <tr>\n",
       "      <th>2</th>\n",
       "      <td>7.185</td>\n",
       "      <td>4.03</td>\n",
       "      <td>17.8</td>\n",
       "      <td>728700.0</td>\n",
       "    </tr>\n",
       "    <tr>\n",
       "      <th>3</th>\n",
       "      <td>6.998</td>\n",
       "      <td>2.94</td>\n",
       "      <td>18.7</td>\n",
       "      <td>701400.0</td>\n",
       "    </tr>\n",
       "    <tr>\n",
       "      <th>4</th>\n",
       "      <td>7.147</td>\n",
       "      <td>5.33</td>\n",
       "      <td>18.7</td>\n",
       "      <td>760200.0</td>\n",
       "    </tr>\n",
       "  </tbody>\n",
       "</table>\n",
       "</div>"
      ],
      "text/plain": [
       "      RM  LSTAT  PTRATIO      MEDV\n",
       "0  6.575   4.98     15.3  504000.0\n",
       "1  6.421   9.14     17.8  453600.0\n",
       "2  7.185   4.03     17.8  728700.0\n",
       "3  6.998   2.94     18.7  701400.0\n",
       "4  7.147   5.33     18.7  760200.0"
      ]
     },
     "execution_count": 2,
     "metadata": {},
     "output_type": "execute_result"
    }
   ],
   "source": [
    "df.head()"
   ]
  },
  {
   "cell_type": "code",
   "execution_count": 3,
   "id": "f6cca20d1ab9974a",
   "metadata": {
    "ExecuteTime": {
     "end_time": "2023-09-28T00:42:07.835039200Z",
     "start_time": "2023-09-28T00:42:07.489403300Z"
    },
    "collapsed": false
   },
   "outputs": [
    {
     "data": {
      "text/plain": [
       "(489, 4)"
      ]
     },
     "execution_count": 3,
     "metadata": {},
     "output_type": "execute_result"
    }
   ],
   "source": [
    "df.shape"
   ]
  },
  {
   "cell_type": "code",
   "execution_count": 4,
   "id": "a28640cee4833038",
   "metadata": {
    "ExecuteTime": {
     "end_time": "2023-09-28T00:42:07.835039200Z",
     "start_time": "2023-09-28T00:42:07.505426100Z"
    },
    "collapsed": false
   },
   "outputs": [
    {
     "name": "stdout",
     "output_type": "stream",
     "text": [
      "<class 'pandas.core.frame.DataFrame'>\n",
      "RangeIndex: 489 entries, 0 to 488\n",
      "Data columns (total 4 columns):\n",
      " #   Column   Non-Null Count  Dtype  \n",
      "---  ------   --------------  -----  \n",
      " 0   RM       489 non-null    float64\n",
      " 1   LSTAT    489 non-null    float64\n",
      " 2   PTRATIO  489 non-null    float64\n",
      " 3   MEDV     489 non-null    float64\n",
      "dtypes: float64(4)\n",
      "memory usage: 15.4 KB\n"
     ]
    }
   ],
   "source": [
    "df.info()"
   ]
  },
  {
   "cell_type": "code",
   "execution_count": 5,
   "id": "449b477850eba2e4",
   "metadata": {
    "ExecuteTime": {
     "end_time": "2023-09-28T00:42:07.835039200Z",
     "start_time": "2023-09-28T00:42:07.521159700Z"
    },
    "collapsed": false
   },
   "outputs": [],
   "source": [
    "#remove duplicates\n",
    "df = df.drop_duplicates()\n",
    "df = df.dropna()"
   ]
  },
  {
   "cell_type": "code",
   "execution_count": 6,
   "id": "7eee37b4984dc60d",
   "metadata": {
    "ExecuteTime": {
     "end_time": "2023-09-28T00:42:07.835039200Z",
     "start_time": "2023-09-28T00:42:07.537176400Z"
    },
    "collapsed": false
   },
   "outputs": [
    {
     "data": {
      "text/html": [
       "<div>\n",
       "<style scoped>\n",
       "    .dataframe tbody tr th:only-of-type {\n",
       "        vertical-align: middle;\n",
       "    }\n",
       "\n",
       "    .dataframe tbody tr th {\n",
       "        vertical-align: top;\n",
       "    }\n",
       "\n",
       "    .dataframe thead th {\n",
       "        text-align: right;\n",
       "    }\n",
       "</style>\n",
       "<table border=\"1\" class=\"dataframe\">\n",
       "  <thead>\n",
       "    <tr style=\"text-align: right;\">\n",
       "      <th></th>\n",
       "      <th>RM</th>\n",
       "      <th>LSTAT</th>\n",
       "      <th>PTRATIO</th>\n",
       "      <th>MEDV</th>\n",
       "    </tr>\n",
       "  </thead>\n",
       "  <tbody>\n",
       "    <tr>\n",
       "      <th>count</th>\n",
       "      <td>489.000000</td>\n",
       "      <td>489.000000</td>\n",
       "      <td>489.000000</td>\n",
       "      <td>4.890000e+02</td>\n",
       "    </tr>\n",
       "    <tr>\n",
       "      <th>mean</th>\n",
       "      <td>6.240288</td>\n",
       "      <td>12.939632</td>\n",
       "      <td>18.516564</td>\n",
       "      <td>4.543429e+05</td>\n",
       "    </tr>\n",
       "    <tr>\n",
       "      <th>std</th>\n",
       "      <td>0.643650</td>\n",
       "      <td>7.081990</td>\n",
       "      <td>2.111268</td>\n",
       "      <td>1.653403e+05</td>\n",
       "    </tr>\n",
       "    <tr>\n",
       "      <th>min</th>\n",
       "      <td>3.561000</td>\n",
       "      <td>1.980000</td>\n",
       "      <td>12.600000</td>\n",
       "      <td>1.050000e+05</td>\n",
       "    </tr>\n",
       "    <tr>\n",
       "      <th>25%</th>\n",
       "      <td>5.880000</td>\n",
       "      <td>7.370000</td>\n",
       "      <td>17.400000</td>\n",
       "      <td>3.507000e+05</td>\n",
       "    </tr>\n",
       "    <tr>\n",
       "      <th>50%</th>\n",
       "      <td>6.185000</td>\n",
       "      <td>11.690000</td>\n",
       "      <td>19.100000</td>\n",
       "      <td>4.389000e+05</td>\n",
       "    </tr>\n",
       "    <tr>\n",
       "      <th>75%</th>\n",
       "      <td>6.575000</td>\n",
       "      <td>17.120000</td>\n",
       "      <td>20.200000</td>\n",
       "      <td>5.187000e+05</td>\n",
       "    </tr>\n",
       "    <tr>\n",
       "      <th>max</th>\n",
       "      <td>8.398000</td>\n",
       "      <td>37.970000</td>\n",
       "      <td>22.000000</td>\n",
       "      <td>1.024800e+06</td>\n",
       "    </tr>\n",
       "  </tbody>\n",
       "</table>\n",
       "</div>"
      ],
      "text/plain": [
       "               RM       LSTAT     PTRATIO          MEDV\n",
       "count  489.000000  489.000000  489.000000  4.890000e+02\n",
       "mean     6.240288   12.939632   18.516564  4.543429e+05\n",
       "std      0.643650    7.081990    2.111268  1.653403e+05\n",
       "min      3.561000    1.980000   12.600000  1.050000e+05\n",
       "25%      5.880000    7.370000   17.400000  3.507000e+05\n",
       "50%      6.185000   11.690000   19.100000  4.389000e+05\n",
       "75%      6.575000   17.120000   20.200000  5.187000e+05\n",
       "max      8.398000   37.970000   22.000000  1.024800e+06"
      ]
     },
     "execution_count": 6,
     "metadata": {},
     "output_type": "execute_result"
    }
   ],
   "source": [
    "df.describe()"
   ]
  },
  {
   "cell_type": "code",
   "execution_count": 7,
   "id": "ac2cf35892378e4f",
   "metadata": {
    "ExecuteTime": {
     "end_time": "2023-09-28T00:42:07.835039200Z",
     "start_time": "2023-09-28T00:42:07.568440900Z"
    },
    "collapsed": false
   },
   "outputs": [
    {
     "data": {
      "text/plain": [
       "Index(['RM', 'LSTAT', 'PTRATIO', 'MEDV'], dtype='object')"
      ]
     },
     "execution_count": 7,
     "metadata": {},
     "output_type": "execute_result"
    }
   ],
   "source": [
    "df.columns"
   ]
  },
  {
   "cell_type": "code",
   "execution_count": 8,
   "id": "ae7a288ae8ad96d4",
   "metadata": {
    "ExecuteTime": {
     "end_time": "2023-09-28T00:42:07.835039200Z",
     "start_time": "2023-09-28T00:42:07.584512900Z"
    },
    "collapsed": false
   },
   "outputs": [
    {
     "data": {
      "text/plain": [
       "<matplotlib.collections.PathCollection at 0x192cec44f10>"
      ]
     },
     "execution_count": 8,
     "metadata": {},
     "output_type": "execute_result"
    },
    {
     "data": {
      "image/png": "[encoded data removed]",
      "text/plain": [
       "<Figure size 640x480 with 1 Axes>"
      ]
     },
     "metadata": {},
     "output_type": "display_data"
    }
   ],
   "source": [
    "from sklearn.model_selection import train_test_split\n",
    "plt.scatter(df['RM'],df['MEDV'])\n"
   ]
  },
  {
   "cell_type": "code",
   "execution_count": 9,
   "id": "aa079feebb18bc71",
   "metadata": {
    "ExecuteTime": {
     "end_time": "2023-09-28T00:42:07.835039200Z",
     "start_time": "2023-09-28T00:42:07.663442500Z"
    },
    "collapsed": false
   },
   "outputs": [],
   "source": [
    "# Define features and target variable\n",
    "X = df.drop('MEDV', axis=1)  # Features\n",
    "target = df[\"MEDV\"]\n",
    "\n",
    "'''\n",
    "@:param random_state\n",
    "The random_state is a seed for the random number generator,\n",
    "it ensures that I will get the same output everytime I run this code\n",
    "@:param test_size\n",
    "test_size=0.2 means that I have the 80 percent of the data acting as training set\n",
    "and 20 percent as testing set.\n",
    "'''\n",
    "X_train, X_test, y_train, y_test = train_test_split(X,target,test_size=0.2,random_state=101)"
   ]
  },
  {
   "cell_type": "code",
   "execution_count": null,
   "outputs": [],
   "source": [
    "import numpy as np\n",
    "import matplotlib.pyplot as plt\n",
    "\n",
    "# 2. **Initialize Parameters**: Linear regression model can be represented as `y = mx + c`, where `m` is the slope of the line (weight), `c` is the y-intercept (bias), and `y` is the dependent variable. We initialize `m` and `c` with some random values.\n",
    "\n",
    "\n",
    "'''\n",
    "we will choose w as weight and b as bias\n",
    "'''\n",
    "m = np.random.randn()\n",
    "b = np.random.randn()\n",
    "\n",
    "def hypothesis(x, m, b):\n",
    "    return m*x + b\n",
    "\n",
    "# 4. **Define Cost Function**: This function calculates the mean squared error between the predicted and actual values.\n",
    "\n",
    "def cost(x, y, m, c):\n",
    "    return ((y - hypothesis(x, m, c)) ** 2).mean()\n",
    "\n",
    "\n",
    "# 5. **Define Gradient Descent Function**: This function updates the values of `m` and `c` by subtracting the derivatives of the cost function with respect to `m` and `c`.\n",
    "\n",
    "def gradient_descent(x, y, m, c, learning_rate):\n",
    "    dm = -2 * (x * (y - hypothesis(x, m, c))).mean()\n",
    "    dc = -2 * (y - hypothesis(x, m, c)).mean()\n",
    "    m = m - learning_rate * dm\n",
    "    c = c - learning_rate * dc\n",
    "    return m, c\n",
    "\n",
    "# \n",
    "# 6. **Train the Model**: This function uses gradient descent to update `m` and `c` for a certain number of iterations.\n",
    "\n",
    "def train(x, y, m, c, learning_rate, iterations):\n",
    "    for i in range(iterations):\n",
    "        m,c = gradient_descent(x,y,m,c,learning_rate)\n",
    "        if i % 1000 == 0: # print cost every 1000 iterations\n",
    "            print(f'Cost: {cost(x,y,m,c)}')\n",
    "    return m,c\n",
    "\n",
    "'''7. **Test the Model**: Use your trained model to make predictions on unseen data.\n",
    "python'''\n",
    "def predict(x_test, m, c):\n",
    "    return hypothesis(x_test, m, c)\n",
    "\n",
    "'''Remember to replace `x`, `y`, `learning_rate`, and `iterations` with your actual data and hyperparameters when calling the train function. Also note that this is a very basic implementation of linear regression and might not work well on complex datasets or those that require feature scaling or normalization.'''\n"
   ],
   "metadata": {
    "collapsed": false
   },
   "id": "45634d8d288f424b"
  },
  {
   "cell_type": "markdown",
   "source": [],
   "metadata": {
    "collapsed": false
   },
   "id": "877e27218c07b420"
  },
  {
   "cell_type": "code",
   "execution_count": 10,
   "id": "770b9d9211979c16",
   "metadata": {
    "ExecuteTime": {
     "end_time": "2023-09-28T00:42:07.835039200Z",
     "start_time": "2023-09-28T00:42:07.679972500Z"
    },
    "collapsed": false
   },
   "outputs": [],
   "source": [
    "linearR = LinearRegression()\n",
    "#TODO: making a linear regression model myself"
   ]
  },
  {
   "cell_type": "code",
   "execution_count": 11,
   "id": "960a20393671584d",
   "metadata": {
    "ExecuteTime": {
     "end_time": "2023-09-28T00:42:07.835039200Z",
     "start_time": "2023-09-28T00:42:07.695075200Z"
    },
    "collapsed": false
   },
   "outputs": [
    {
     "data": {
      "text/html": [
       "<style>#sk-container-id-1 {color: black;}#sk-container-id-1 pre{padding: 0;}#sk-container-id-1 div.sk-toggleable {background-color: white;}#sk-container-id-1 label.sk-toggleable__label {cursor: pointer;display: block;width: 100%;margin-bottom: 0;padding: 0.3em;box-sizing: border-box;text-align: center;}#sk-container-id-1 label.sk-toggleable__label-arrow:before {content: \"▸\";float: left;margin-right: 0.25em;color: #696969;}#sk-container-id-1 label.sk-toggleable__label-arrow:hover:before {color: black;}#sk-container-id-1 div.sk-estimator:hover label.sk-toggleable__label-arrow:before {color: black;}#sk-container-id-1 div.sk-toggleable__content {max-height: 0;max-width: 0;overflow: hidden;text-align: left;background-color: #f0f8ff;}#sk-container-id-1 div.sk-toggleable__content pre {margin: 0.2em;color: black;border-radius: 0.25em;background-color: #f0f8ff;}#sk-container-id-1 input.sk-toggleable__control:checked~div.sk-toggleable__content {max-height: 200px;max-width: 100%;overflow: auto;}#sk-container-id-1 input.sk-toggleable__control:checked~label.sk-toggleable__label-arrow:before {content: \"▾\";}#sk-container-id-1 div.sk-estimator input.sk-toggleable__control:checked~label.sk-toggleable__label {background-color: #d4ebff;}#sk-container-id-1 div.sk-label input.sk-toggleable__control:checked~label.sk-toggleable__label {background-color: #d4ebff;}#sk-container-id-1 input.sk-hidden--visually {border: 0;clip: rect(1px 1px 1px 1px);clip: rect(1px, 1px, 1px, 1px);height: 1px;margin: -1px;overflow: hidden;padding: 0;position: absolute;width: 1px;}#sk-container-id-1 div.sk-estimator {font-family: monospace;background-color: #f0f8ff;border: 1px dotted black;border-radius: 0.25em;box-sizing: border-box;margin-bottom: 0.5em;}#sk-container-id-1 div.sk-estimator:hover {background-color: #d4ebff;}#sk-container-id-1 div.sk-parallel-item::after {content: \"\";width: 100%;border-bottom: 1px solid gray;flex-grow: 1;}#sk-container-id-1 div.sk-label:hover label.sk-toggleable__label {background-color: #d4ebff;}#sk-container-id-1 div.sk-serial::before {content: \"\";position: absolute;border-left: 1px solid gray;box-sizing: border-box;top: 0;bottom: 0;left: 50%;z-index: 0;}#sk-container-id-1 div.sk-serial {display: flex;flex-direction: column;align-items: center;background-color: white;padding-right: 0.2em;padding-left: 0.2em;position: relative;}#sk-container-id-1 div.sk-item {position: relative;z-index: 1;}#sk-container-id-1 div.sk-parallel {display: flex;align-items: stretch;justify-content: center;background-color: white;position: relative;}#sk-container-id-1 div.sk-item::before, #sk-container-id-1 div.sk-parallel-item::before {content: \"\";position: absolute;border-left: 1px solid gray;box-sizing: border-box;top: 0;bottom: 0;left: 50%;z-index: -1;}#sk-container-id-1 div.sk-parallel-item {display: flex;flex-direction: column;z-index: 1;position: relative;background-color: white;}#sk-container-id-1 div.sk-parallel-item:first-child::after {align-self: flex-end;width: 50%;}#sk-container-id-1 div.sk-parallel-item:last-child::after {align-self: flex-start;width: 50%;}#sk-container-id-1 div.sk-parallel-item:only-child::after {width: 0;}#sk-container-id-1 div.sk-dashed-wrapped {border: 1px dashed gray;margin: 0 0.4em 0.5em 0.4em;box-sizing: border-box;padding-bottom: 0.4em;background-color: white;}#sk-container-id-1 div.sk-label label {font-family: monospace;font-weight: bold;display: inline-block;line-height: 1.2em;}#sk-container-id-1 div.sk-label-container {text-align: center;}#sk-container-id-1 div.sk-container {/* jupyter's `normalize.less` sets `[hidden] { display: none; }` but bootstrap.min.css set `[hidden] { display: none !important; }` so we also need the `!important` here to be able to override the default hidden behavior on the sphinx rendered scikit-learn.org. See: https://github.com/scikit-learn/scikit-learn/issues/21755 */display: inline-block !important;position: relative;}#sk-container-id-1 div.sk-text-repr-fallback {display: none;}</style><div id=\"sk-container-id-1\" class=\"sk-top-container\"><div class=\"sk-text-repr-fallback\"><pre>LinearRegression()</pre><b>In a Jupyter environment, please rerun this cell to show the HTML representation or trust the notebook. <br />On GitHub, the HTML representation is unable to render, please try loading this page with nbviewer.org.</b></div><div class=\"sk-container\" hidden><div class=\"sk-item\"><div class=\"sk-estimator sk-toggleable\"><input class=\"sk-toggleable__control sk-hidden--visually\" id=\"sk-estimator-id-1\" type=\"checkbox\" checked><label for=\"sk-estimator-id-1\" class=\"sk-toggleable__label sk-toggleable__label-arrow\">LinearRegression</label><div class=\"sk-toggleable__content\"><pre>LinearRegression()</pre></div></div></div></div></div>"
      ],
      "text/plain": [
       "LinearRegression()"
      ]
     },
     "execution_count": 11,
     "metadata": {},
     "output_type": "execute_result"
    }
   ],
   "source": [
    "'''\n",
    "The fit method is used for training data from the training dataset\n",
    "@:parameter X_train\n",
    "X_train is the x set of values that are being split from the set of feature values from X\n",
    "@:parameter y_train contains the corresponding test values from y\n",
    "'''\n",
    "linearR.fit(X_train, y_train)"
   ]
  },
  {
   "cell_type": "code",
   "execution_count": 12,
   "id": "3c8f4facd973ce4a",
   "metadata": {
    "ExecuteTime": {
     "end_time": "2023-09-28T00:42:07.835039200Z",
     "start_time": "2023-09-28T00:42:07.711085200Z"
    },
    "collapsed": false
   },
   "outputs": [],
   "source": [
    "y_predic = linearR.predict(X_test)"
   ]
  },
  {
   "cell_type": "code",
   "execution_count": 13,
   "id": "3307c4333cc0c612",
   "metadata": {
    "ExecuteTime": {
     "end_time": "2023-09-28T00:42:07.835039200Z",
     "start_time": "2023-09-28T00:42:07.726784400Z"
    },
    "collapsed": false
   },
   "outputs": [
    {
     "name": "stdout",
     "output_type": "stream",
     "text": [
      "MSE: 8589286526.085741, MAE: 69250.34632740814, R^2: 0.7252223767076543\n",
      "Coefficients: [ 80737.51094651 -10992.92274351 -19126.49414973]\n"
     ]
    }
   ],
   "source": [
    "mse = mean_squared_error(y_test, y_predic)\n",
    "mae = mean_absolute_error(y_test, y_predic)\n",
    "r2 = r2_score(y_test, y_predic)\n",
    "\n",
    "print(f'MSE: {mse}, MAE: {mae}, R^2: {r2}')\n",
    "\n",
    "# 4. Interpretation\n",
    "coefficients = linearR.coef_\n",
    "print(f'Coefficients: {coefficients}')"
   ]
  },
  {
   "cell_type": "markdown",
   "id": "4b0924b4b9a5e8c2",
   "metadata": {
    "collapsed": false
   },
   "source": [
    "MSE is the average squared difference between the predicted and actual values. MAE is also the average absolute difference between the predicted and actual values. However, in this model, both the MSE and the MAE are large which means that there is a huge difference between the predicted and the actual values, which is not good.\n",
    "According to the R^2 value, we have 72.5% of dependent variable is predictable from the independent variable\n"
   ]
  },
  {
   "cell_type": "code",
   "execution_count": 14,
   "id": "4e108bdd859e8222",
   "metadata": {
    "ExecuteTime": {
     "end_time": "2023-09-28T00:42:08.057816700Z",
     "start_time": "2023-09-28T00:42:07.774494200Z"
    },
    "collapsed": false
   },
   "outputs": [
    {
     "data": {
      "image/png": "[encoded data removed]",
      "text/plain": [
       "<Figure size 640x480 with 1 Axes>"
      ]
     },
     "metadata": {},
     "output_type": "display_data"
    }
   ],
   "source": [
    "plt.scatter(y_test, y_predic)\n",
    "plt.xlabel('Actual Values')\n",
    "plt.ylabel('Predicted Values')\n",
    "plt.title('Actual vs Predicted Values')\n",
    "plt.show()\n"
   ]
  },
  {
   "cell_type": "code",
   "execution_count": 15,
   "id": "c2de4b72296735ee",
   "metadata": {
    "ExecuteTime": {
     "end_time": "2023-09-28T00:42:37.633892400Z",
     "start_time": "2023-09-28T00:42:37.534749700Z"
    },
    "collapsed": false
   },
   "outputs": [
    {
     "data": {
      "image/png": "[encoded data removed]",
      "text/plain": [
       "<Figure size 640x480 with 1 Axes>"
      ]
     },
     "metadata": {},
     "output_type": "display_data"
    }
   ],
   "source": [
    "residuals = y_test - y_predic\n",
    "plt.scatter(y_predic, residuals)\n",
    "plt.xlabel('Predicted Values')\n",
    "plt.ylabel('Residuals')\n",
    "plt.title('Residuals vs Predicted Values')\n",
    "plt.show()"
   ]
  },
  {
   "cell_type": "markdown",
   "id": "358d0402c0b67506",
   "metadata": {
    "collapsed": false
   },
   "source": [
    "According to the COMP551 chatbot, \"a residual plot is a graphical representation of the differences between the actual values and the predicted values (residuals) of the dependent variable\"\n",
    "\n",
    "In this case, we can conservatively say that the data points are generally scattered randomly with some U-shape pattern and some outliers.The U-shape pattern may signify that another kind of regression model maybe a better fit of this data. Outliers may affect the regression model, but the outliers in this case is not significant enough, so treatment may not be needed. \n"
   ]
  },
  {
   "cell_type": "code",
   "execution_count": null,
   "id": "f4a303258b5cfc89",
   "metadata": {
    "collapsed": false
   },
   "outputs": [],
   "source": []
  }
 ],
 "metadata": {
  "kernelspec": {
   "display_name": "Python 3 (ipykernel)",
   "language": "python",
   "name": "python3"
  },
  "language_info": {
   "codemirror_mode": {
    "name": "ipython",
    "version": 3
   },
   "file_extension": ".py",
   "mimetype": "text/x-python",
   "name": "python",
   "nbconvert_exporter": "python",
   "pygments_lexer": "ipython3",
   "version": "3.9.6"
  }
 },
 "nbformat": 4,
 "nbformat_minor": 5
}
