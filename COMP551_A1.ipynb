{
 "cells": [
  {
   "cell_type": "code",
   "execution_count": null,
   "id": "initial_id",
   "metadata": {},
   "outputs": [],
   "source": [
    "import pandas as pd\n",
    "import numpy as np\n",
    "import matplotlib.pyplot as plt\n",
    "from MiniBSGDLinearReg import *\n",
    "from pythonProject1.Analytic Linear Regression import *\n",
    "from sklearn.metrics import mean_squared_error, mean_absolute_error, r2_score\n",
    "%matplotlib inline\n",
    "\n",
    "path = r\"C:\\Users\\yongr\\PycharmProjects\\pythonProject1\\housing.csv\"\n",
    "\n",
    "df = pd.read_csv(path)\n",
    "\n",
    "print(df)"
   ]
  },
  {
   "cell_type": "code",
   "execution_count": null,
   "id": "7dc317cb940ab4f9",
   "metadata": {
    "collapsed": false
   },
   "outputs": [],
   "source": [
    "df.head()"
   ]
  },
  {
   "cell_type": "code",
   "execution_count": null,
   "id": "f6cca20d1ab9974a",
   "metadata": {
    "collapsed": false
   },
   "outputs": [],
   "source": [
    "df.shape"
   ]
  },
  {
   "cell_type": "code",
   "execution_count": null,
   "id": "a28640cee4833038",
   "metadata": {
    "collapsed": false
   },
   "outputs": [],
   "source": [
    "df.info()"
   ]
  },
  {
   "cell_type": "code",
   "execution_count": null,
   "id": "449b477850eba2e4",
   "metadata": {
    "collapsed": false
   },
   "outputs": [],
   "source": [
    "#remove duplicates\n",
    "df = df.drop_duplicates()\n",
    "df = df.dropna()"
   ]
  },
  {
   "cell_type": "code",
   "execution_count": null,
   "id": "7eee37b4984dc60d",
   "metadata": {
    "collapsed": false
   },
   "outputs": [],
   "source": [
    "df.describe()"
   ]
  },
  {
   "cell_type": "code",
   "execution_count": null,
   "id": "ac2cf35892378e4f",
   "metadata": {
    "collapsed": false
   },
   "outputs": [],
   "source": [
    "df.columns"
   ]
  },
  {
   "cell_type": "code",
   "execution_count": null,
   "id": "ae7a288ae8ad96d4",
   "metadata": {
    "collapsed": false
   },
   "outputs": [],
   "source": [
    "from sklearn.model_selection import train_test_split\n",
    "plt.scatter(df['RM'],df['MEDV'])\n"
   ]
  },
  {
   "cell_type": "code",
   "execution_count": null,
   "id": "aa079feebb18bc71",
   "metadata": {
    "collapsed": false
   },
   "outputs": [],
   "source": [
    "# Define features and target variable\n",
    "X = df.drop('MEDV', axis=1)  # Features\n",
    "target = df[\"MEDV\"]\n",
    "\n",
    "'''\n",
    "@:param random_state\n",
    "The random_state is a seed for the random number generator,\n",
    "it ensures that I will get the same output everytime I run this code\n",
    "@:param test_size\n",
    "test_size=0.2 means that I have the 80 percent of the data acting as training set\n",
    "and 20 percent as testing set.\n",
    "'''\n",
    "X_train, X_test, y_train, y_test = train_test_split(X,target,test_size=0.2,random_state=101)"
   ]
  },
  {
   "cell_type": "markdown",
   "source": [],
   "metadata": {
    "collapsed": false
   },
   "id": "877e27218c07b420"
  },
  {
   "cell_type": "code",
   "execution_count": null,
   "id": "960a20393671584d",
   "metadata": {
    "collapsed": false
   },
   "outputs": [],
   "source": [
    "self.fit(X_train, y_train)"
   ]
  },
  {
   "cell_type": "code",
   "execution_count": null,
   "outputs": [],
   "source": [
    "MiniBSGDLinearReg.fit(X_train, y_train)"
   ],
   "metadata": {
    "collapsed": false
   },
   "id": "5bbecc4397082b76"
  },
  {
   "cell_type": "code",
   "execution_count": null,
   "outputs": [],
   "source": [
    "\n",
    "y_predic_Analytical = AnalyticLinReg.predict(X_test)"
   ],
   "metadata": {
    "collapsed": false
   },
   "id": "3c8f4facd973ce4a"
  },
  {
   "cell_type": "code",
   "execution_count": null,
   "outputs": [],
   "source": [
    "y_predic_MBSGD = MiniBSGDLinearReg.predict(X_test)"
   ],
   "metadata": {
    "collapsed": false
   },
   "id": "fe3f83ab903b703c"
  },
  {
   "cell_type": "code",
   "execution_count": null,
   "id": "3307c4333cc0c612",
   "metadata": {
    "collapsed": false
   },
   "outputs": [],
   "source": [
    "mse = mean_squared_error(y_test, y_predic_Analytical)\n",
    "mae = mean_absolute_error(y_test, y_predic_Analytical)\n",
    "r2 = r2_score(y_test, y_predic_Analytical)\n",
    "\n",
    "print(f'MSE: {mse}, MAE: {mae}, R^2: {r2}')\n",
    "\n",
    "# 4. Interpretation\n",
    "coefficients = AnalyticLinReg.coef_\n",
    "print(f'Coefficients: {coefficients}')"
   ]
  },
  {
   "cell_type": "markdown",
   "id": "4b0924b4b9a5e8c2",
   "metadata": {
    "collapsed": false
   },
   "source": [
    "MSE is the average squared difference between the predicted and actual values. MAE is also the average absolute difference between the predicted and actual values. However, in this model, both the MSE and the MAE are large which means that there is a huge difference between the predicted and the actual values, which is not good.\n",
    "According to the R^2 value, we have 72.5% of dependent variable is predictable from the independent variable\n"
   ]
  },
  {
   "cell_type": "code",
   "execution_count": null,
   "id": "4e108bdd859e8222",
   "metadata": {
    "collapsed": false
   },
   "outputs": [],
   "source": [
    "plt.scatter(y_test, y_predic)\n",
    "plt.xlabel('Actual Values')\n",
    "plt.ylabel('Predicted Values')\n",
    "plt.title('Actual vs Predicted Values')\n",
    "plt.show()\n"
   ]
  },
  {
   "cell_type": "code",
   "execution_count": null,
   "id": "c2de4b72296735ee",
   "metadata": {
    "collapsed": false
   },
   "outputs": [],
   "source": [
    "residuals = y_test - y_predic\n",
    "plt.scatter(y_predic, residuals)\n",
    "plt.xlabel('Predicted Values')\n",
    "plt.ylabel('Residuals')\n",
    "plt.title('Residuals vs Predicted Values')\n",
    "plt.show()"
   ]
  },
  {
   "cell_type": "markdown",
   "id": "358d0402c0b67506",
   "metadata": {
    "collapsed": false
   },
   "source": [
    "According to the COMP551 chatbot, \"a residual plot is a graphical representation of the differences between the actual values and the predicted values (residuals) of the dependent variable\"\n",
    "\n",
    "In this case, we can conservatively say that the data points are generally scattered randomly with some U-shape pattern and some outliers.The U-shape pattern may signify that another kind of regression model maybe a better fit of this data. Outliers may affect the regression model, but the outliers in this case is not significant enough, so treatment may not be needed. \n"
   ]
  },
  {
   "cell_type": "code",
   "execution_count": null,
   "id": "f4a303258b5cfc89",
   "metadata": {
    "collapsed": false
   },
   "outputs": [],
   "source": []
  }
 ],
 "metadata": {
  "kernelspec": {
   "display_name": "Python 3 (ipykernel)",
   "language": "python",
   "name": "python3"
  },
  "language_info": {
   "codemirror_mode": {
    "name": "ipython",
    "version": 3
   },
   "file_extension": ".py",
   "mimetype": "text/x-python",
   "name": "python",
   "nbconvert_exporter": "python",
   "pygments_lexer": "ipython3",
   "version": "3.9.6"
  }
 },
 "nbformat": 4,
 "nbformat_minor": 5
}
